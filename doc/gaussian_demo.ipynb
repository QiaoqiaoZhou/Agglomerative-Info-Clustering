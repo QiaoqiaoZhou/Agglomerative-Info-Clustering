{
 "cells": [
  {
   "cell_type": "markdown",
   "metadata": {},
   "source": [
    "# Demonstration of Agglomerative Info-Clustering and the CL Tree approximation."
   ]
  },
  {
   "cell_type": "markdown",
   "metadata": {},
   "source": [
    "This notebook can be run using the xeus-cling C++11 jupyter kernel."
   ]
  },
  {
   "cell_type": "markdown",
   "metadata": {},
   "source": [
    "## Setup"
   ]
  },
  {
   "cell_type": "markdown",
   "metadata": {},
   "source": [
    "Specifies the include path."
   ]
  },
  {
   "cell_type": "code",
   "execution_count": 1,
   "metadata": {},
   "outputs": [],
   "source": [
    "#pragma cling add_include_path(\"../include\")"
   ]
  },
  {
   "cell_type": "markdown",
   "metadata": {},
   "source": [
    "Load the header files info-clustering (IC) algorithms. "
   ]
  },
  {
   "cell_type": "code",
   "execution_count": 2,
   "metadata": {},
   "outputs": [],
   "source": [
    "#include <IC/AIC>     // agglomerative info-clustering\n",
    "#include <IC/ChowLiu> // Chow-Liu tree approximation"
   ]
  },
  {
   "cell_type": "markdown",
   "metadata": {},
   "source": [
    "## Gaussian source"
   ]
  },
  {
   "cell_type": "markdown",
   "metadata": {},
   "source": [
    "$\\def\\M#1{\\boldsymbol{#1}}$Specify the covariance matrix $\\M{S}=\\M{A}\\M{A}^{\\intercal}$ for the random variables to be clustered. "
   ]
  },
  {
   "cell_type": "code",
   "execution_count": 3,
   "metadata": {},
   "outputs": [],
   "source": [
    "using namespace Eigen;\n",
    "\n",
    "size_t k = 5;\n",
    "double sigma = 1;\n",
    "size_t n = 15;\n",
    "\n",
    "MatrixXd A = MatrixXd::Zero(n, n + k);\n",
    "for (size_t i = 0; i < A.rows(); i++) {\n",
    "    A(i, i % k) = 1;\n",
    "    A(i, k + i) = sigma;\n",
    "}\n",
    "MatrixXd S = A* A.transpose();"
   ]
  },
  {
   "cell_type": "markdown",
   "metadata": {},
   "source": [
    "Print the matrices $\\M{A}$ and $\\M{S}$."
   ]
  },
  {
   "cell_type": "code",
   "execution_count": 4,
   "metadata": {},
   "outputs": [
    {
     "name": "stdout",
     "output_type": "stream",
     "text": [
      "A= \n",
      "1 0 0 0 0 1 0 0 0 0 0 0 0 0 0 0 0 0 0 0\n",
      "0 1 0 0 0 0 1 0 0 0 0 0 0 0 0 0 0 0 0 0\n",
      "0 0 1 0 0 0 0 1 0 0 0 0 0 0 0 0 0 0 0 0\n",
      "0 0 0 1 0 0 0 0 1 0 0 0 0 0 0 0 0 0 0 0\n",
      "0 0 0 0 1 0 0 0 0 1 0 0 0 0 0 0 0 0 0 0\n",
      "1 0 0 0 0 0 0 0 0 0 1 0 0 0 0 0 0 0 0 0\n",
      "0 1 0 0 0 0 0 0 0 0 0 1 0 0 0 0 0 0 0 0\n",
      "0 0 1 0 0 0 0 0 0 0 0 0 1 0 0 0 0 0 0 0\n",
      "0 0 0 1 0 0 0 0 0 0 0 0 0 1 0 0 0 0 0 0\n",
      "0 0 0 0 1 0 0 0 0 0 0 0 0 0 1 0 0 0 0 0\n",
      "1 0 0 0 0 0 0 0 0 0 0 0 0 0 0 1 0 0 0 0\n",
      "0 1 0 0 0 0 0 0 0 0 0 0 0 0 0 0 1 0 0 0\n",
      "0 0 1 0 0 0 0 0 0 0 0 0 0 0 0 0 0 1 0 0\n",
      "0 0 0 1 0 0 0 0 0 0 0 0 0 0 0 0 0 0 1 0\n",
      "0 0 0 0 1 0 0 0 0 0 0 0 0 0 0 0 0 0 0 1\n",
      "S= \n",
      "2 0 0 0 0 1 0 0 0 0 1 0 0 0 0\n",
      "0 2 0 0 0 0 1 0 0 0 0 1 0 0 0\n",
      "0 0 2 0 0 0 0 1 0 0 0 0 1 0 0\n",
      "0 0 0 2 0 0 0 0 1 0 0 0 0 1 0\n",
      "0 0 0 0 2 0 0 0 0 1 0 0 0 0 1\n",
      "1 0 0 0 0 2 0 0 0 0 1 0 0 0 0\n",
      "0 1 0 0 0 0 2 0 0 0 0 1 0 0 0\n",
      "0 0 1 0 0 0 0 2 0 0 0 0 1 0 0\n",
      "0 0 0 1 0 0 0 0 2 0 0 0 0 1 0\n",
      "0 0 0 0 1 0 0 0 0 2 0 0 0 0 1\n",
      "1 0 0 0 0 1 0 0 0 0 2 0 0 0 0\n",
      "0 1 0 0 0 0 1 0 0 0 0 2 0 0 0\n",
      "0 0 1 0 0 0 0 1 0 0 0 0 2 0 0\n",
      "0 0 0 1 0 0 0 0 1 0 0 0 0 2 0\n",
      "0 0 0 0 1 0 0 0 0 1 0 0 0 0 2\n"
     ]
    }
   ],
   "source": [
    "using namespace std;\n",
    "cout << \"A= \\n\" << A << endl;\n",
    "cout << \"S= \\n\" << S << endl;"
   ]
  },
  {
   "cell_type": "markdown",
   "metadata": {},
   "source": [
    "Generate the entropy function for the gaussian vector."
   ]
  },
  {
   "cell_type": "code",
   "execution_count": 5,
   "metadata": {},
   "outputs": [],
   "source": [
    "#include <IC/gaussian>\n",
    "using namespace IC;\n",
    "\n",
    "GaussianEntropy gsf(S);"
   ]
  },
  {
   "cell_type": "markdown",
   "metadata": {},
   "source": [
    "### Agglomerative info-clustering"
   ]
  },
  {
   "cell_type": "code",
   "execution_count": 6,
   "metadata": {},
   "outputs": [
    {
     "name": "stdout",
     "output_type": "stream",
     "text": [
      "Agglomerative info-clustering:\n",
      "[ [ 0 ] [ 1 ] [ 2 ] [ 3 ] [ 4 ] [ 5 ] [ 6 ] [ 7 ] [ 8 ] [ 9 ] [ 10 ] [ 11 ] [ 12 ] [ 13 ] [ 14 ] ]\n",
      "agglomerates to [ [ 0 10 5 ] [ 1 11 6 ] [ 2 12 7 ] [ 3 13 8 ] [ 4 14 9 ] ] at critical value 0.173287\n",
      "agglomerates to [ [ 0 10 5 1 2 3 4 11 6 12 7 13 8 14 9 ] ] at critical value 5.32907e-15\n",
      "critical values : [ 0.173287 5.32907e-15 ]\n",
      "partition at threshold 0.173287:[ [ 0 ] [ 1 ] [ 2 ] [ 3 ] [ 4 ] [ 5 ] [ 6 ] [ 7 ] [ 8 ] [ 9 ] [ 10 ] [ 11 ] [ 12 ] [ 13 ] [ 14 ] ]\n",
      "partition at threshold 5.32907e-15:[ [ 0 10 5 ] [ 1 11 6 ] [ 2 12 7 ] [ 3 13 8 ] [ 4 14 9 ] ]\n"
     ]
    }
   ],
   "source": [
    "{\n",
    "    // generate the exact info-clustering solution via AIC\n",
    "    cout << \"Agglomerative info-clustering:\" << endl;\n",
    "    AIC psp(gsf);\n",
    "    {\n",
    "        size_t i = 0;\n",
    "        cout << psp.getPartition(-1) << endl;\n",
    "        while (psp.agglomerate(1E-8, 1E-10)) {\n",
    "            cout << \"agglomerates to \" << psp.getPartition(-1) << \" at critical value \" << psp.getCriticalValues().back() << endl;\n",
    "        }\n",
    "    }\n",
    "    vector<double> psp_gamma = psp.getCriticalValues();\n",
    "    cout << \"critical values : \" << psp_gamma << endl;\n",
    "    for (double gamma : psp.getCriticalValues()) {\n",
    "        cout << \"partition at threshold \" << gamma << \":\" << psp.getPartition(gamma) << endl;\n",
    "    }\n",
    "}"
   ]
  },
  {
   "cell_type": "markdown",
   "metadata": {},
   "source": [
    "### Chow-Liu tree approximation"
   ]
  },
  {
   "cell_type": "code",
   "execution_count": 7,
   "metadata": {},
   "outputs": [
    {
     "name": "stdout",
     "output_type": "stream",
     "text": [
      "Info-clustering by CL tree approximation:\n",
      "critical values : [ 0.143841 0 ]\n",
      "partition at threshold 0.143841:[ [ 0 ] [ 1 ] [ 2 ] [ 3 ] [ 4 ] [ 5 ] [ 6 ] [ 7 ] [ 8 ] [ 9 ] [ 10 ] [ 11 ] [ 12 ] [ 13 ] [ 14 ] ]\n",
      "partition at threshold 0:[ [ 0 10 5 ] [ 1 11 6 ] [ 2 7 12 ] [ 3 8 13 ] [ 4 9 14 ] ]\n"
     ]
    }
   ],
   "source": [
    "{\n",
    "    // generate approximate solution via CL tree\n",
    "    cout << \"Info-clustering by CL tree approximation:\" << endl;\n",
    "    vector<size_t> first_node, second_node;\n",
    "    vector<double> gamma;\n",
    "    for (size_t i = 0; i < n; i++) {\n",
    "        for (size_t j = 0; j < i; j++) {\n",
    "            first_node.push_back(i);\n",
    "            second_node.push_back(j);\n",
    "            double I = gsf(vector<size_t> {i}) + gsf(vector<size_t> {j}) - gsf(vector<size_t> {i, j});\n",
    "            gamma.push_back(I);\n",
    "        }\n",
    "    }\n",
    "    CL cl(n, first_node, second_node, gamma);\n",
    "    vector<double> cl_gamma = cl.getCriticalValues();\n",
    "    cout << \"critical values : \" << cl_gamma << endl;\n",
    "    for (double gamma : cl.getCriticalValues()) {\n",
    "        cout << \"partition at threshold \" << gamma << \":\" << cl.getPartition(gamma) << endl;\n",
    "    }\n",
    "}"
   ]
  }
 ],
 "metadata": {
  "kernelspec": {
   "display_name": "C++11",
   "language": "C++11",
   "name": "xcpp11"
  },
  "language_info": {
   "codemirror_mode": "text/x-c++src",
   "file_extension": ".cpp",
   "mimetype": "text/x-c++src",
   "name": "c++",
   "version": "11"
  }
 },
 "nbformat": 4,
 "nbformat_minor": 4
}
